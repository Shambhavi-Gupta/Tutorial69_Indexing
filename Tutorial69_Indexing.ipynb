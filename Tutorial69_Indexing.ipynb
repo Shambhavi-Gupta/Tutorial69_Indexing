{
  "nbformat": 4,
  "nbformat_minor": 0,
  "metadata": {
    "colab": {
      "name": "Tutorial69_Indexing.ipynb",
      "provenance": [],
      "authorship_tag": "ABX9TyNXMavhCnt5CoLMaYJbsLNl",
      "include_colab_link": true
    },
    "kernelspec": {
      "name": "python3",
      "display_name": "Python 3"
    }
  },
  "cells": [
    {
      "cell_type": "markdown",
      "metadata": {
        "id": "view-in-github",
        "colab_type": "text"
      },
      "source": [
        "<a href=\"https://colab.research.google.com/github/Shambhavi-Gupta/Tutorial69_Indexing/blob/main/Tutorial69_Indexing.ipynb\" target=\"_parent\"><img src=\"https://colab.research.google.com/assets/colab-badge.svg\" alt=\"Open In Colab\"/></a>"
      ]
    },
    {
      "cell_type": "code",
      "metadata": {
        "id": "KKiAxHbI3GzL"
      },
      "source": [
        "import numpy as np\r\n",
        "# a = np.array([5,6,7,8,9])\r\n",
        "# print(a)\r\n",
        "# print(a[1])\r\n",
        "# print(a[3])\r\n",
        "# print(a[-2])\r\n",
        "\r\n",
        "a = np.array([[1,2],[4,5]])\r\n",
        "print(a)\r\n",
        "print(a[0][0])\r\n",
        "print(a[0][1])"
      ],
      "execution_count": null,
      "outputs": []
    }
  ]
}